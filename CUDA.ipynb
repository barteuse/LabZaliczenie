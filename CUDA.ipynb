{
  "nbformat": 4,
  "nbformat_minor": 0,
  "metadata": {
    "colab": {
      "provenance": []
    },
    "kernelspec": {
      "name": "python3",
      "display_name": "Python 3"
    },
    "language_info": {
      "name": "python"
    },
    "accelerator": "GPU",
    "gpuClass": "standard"
  },
  "cells": [
    {
      "cell_type": "code",
      "execution_count": 1,
      "metadata": {
        "colab": {
          "base_uri": "https://localhost:8080/"
        },
        "id": "9VVJCO6K_psm",
        "outputId": "b7b8583b-60fb-4dcb-faa3-0cfd2086b331"
      },
      "outputs": [
        {
          "output_type": "stream",
          "name": "stdout",
          "text": [
            "nvcc: NVIDIA (R) Cuda compiler driver\n",
            "Copyright (c) 2005-2022 NVIDIA Corporation\n",
            "Built on Tue_Mar__8_18:18:20_PST_2022\n",
            "Cuda compilation tools, release 11.6, V11.6.124\n",
            "Build cuda_11.6.r11.6/compiler.31057947_0\n"
          ]
        }
      ],
      "source": [
        "!nvcc --version"
      ]
    },
    {
      "cell_type": "code",
      "source": [
        "!pip install git+https://github.com/andreinechaev/nvcc4jupyter.git"
      ],
      "metadata": {
        "colab": {
          "base_uri": "https://localhost:8080/"
        },
        "id": "2zjEmvk8_xN6",
        "outputId": "58e2654a-a783-4b06-a459-5e1855f543ea"
      },
      "execution_count": 2,
      "outputs": [
        {
          "output_type": "stream",
          "name": "stdout",
          "text": [
            "Looking in indexes: https://pypi.org/simple, https://us-python.pkg.dev/colab-wheels/public/simple/\n",
            "Collecting git+https://github.com/andreinechaev/nvcc4jupyter.git\n",
            "  Cloning https://github.com/andreinechaev/nvcc4jupyter.git to /tmp/pip-req-build-xz9w1xga\n",
            "  Running command git clone --filter=blob:none --quiet https://github.com/andreinechaev/nvcc4jupyter.git /tmp/pip-req-build-xz9w1xga\n",
            "  Resolved https://github.com/andreinechaev/nvcc4jupyter.git to commit aac710a35f52bb78ab34d2e52517237941399eff\n",
            "  Preparing metadata (setup.py) ... \u001b[?25l\u001b[?25hdone\n",
            "Building wheels for collected packages: NVCCPlugin\n",
            "  Building wheel for NVCCPlugin (setup.py) ... \u001b[?25l\u001b[?25hdone\n",
            "  Created wheel for NVCCPlugin: filename=NVCCPlugin-0.0.2-py3-none-any.whl size=4304 sha256=177198e95603de3566f3f7e4c34f632abc2928c92893b21a17a3c1a34008e652\n",
            "  Stored in directory: /tmp/pip-ephem-wheel-cache-m8xiafe6/wheels/f3/08/cc/e2b5b0e1c92df07dbb50a6f024a68ce090f5e7b2316b41756d\n",
            "Successfully built NVCCPlugin\n",
            "Installing collected packages: NVCCPlugin\n",
            "Successfully installed NVCCPlugin-0.0.2\n"
          ]
        }
      ]
    },
    {
      "cell_type": "code",
      "source": [
        "%load_ext nvcc_plugin"
      ],
      "metadata": {
        "colab": {
          "base_uri": "https://localhost:8080/"
        },
        "id": "_4JMhlnn_zBC",
        "outputId": "21dfbd3b-c3a0-40dc-d7fd-40e0c60edc5f"
      },
      "execution_count": 3,
      "outputs": [
        {
          "output_type": "stream",
          "name": "stdout",
          "text": [
            "created output directory at /content/src\n",
            "Out bin /content/result.out\n"
          ]
        }
      ]
    },
    {
      "cell_type": "code",
      "source": [
        "%%cu\n",
        "#include <stdio.h>\n",
        "#include <stdlib.h>\n",
        "\n",
        "__global__ void sum_avg_kernel(int *data, int *sum, int *avg) {\n",
        "  \n",
        "  int i = blockIdx.x * blockDim.x + threadIdx.x;\n",
        "  int s = 0;\n",
        "  for (int j = i; j < i + 10; j++) {\n",
        "    s += data[j];\n",
        "  }\n",
        "  sum[blockIdx.x] = s;\n",
        "  avg[blockIdx.x] = s / 10;\n",
        "}\n",
        "\n",
        "int main() {\n",
        "  \n",
        "  int data[100];\n",
        "  int sum[10];\n",
        "  int avg[10];\n",
        "  \n",
        "  for (int i = 0; i < 100; i++) {\n",
        "    data[i] = i + 1;\n",
        "  }\n",
        "  \n",
        "  int *dev_data;\n",
        "  cudaMalloc((void**)&dev_data, 100 * sizeof(int));\n",
        "  cudaMemcpy(dev_data, data, 100 * sizeof(int), cudaMemcpyHostToDevice);\n",
        "  \n",
        "  int *dev_sum;\n",
        "  cudaMalloc((void**)&dev_sum, 10 * sizeof(int));\n",
        "  \n",
        "  int *dev_avg;\n",
        "  cudaMalloc((void**)&dev_avg, 10 * sizeof(int));\n",
        "  \n",
        "  sum_avg_kernel<<<10, 10>>>(dev_data, dev_sum, dev_avg);\n",
        "  \n",
        "  cudaMemcpy(sum, dev_sum, 10 * sizeof(int), cudaMemcpyDeviceToHost);\n",
        "  cudaMemcpy(avg, dev_avg, 10 * sizeof(int), cudaMemcpyDeviceToHost);\n",
        "  \n",
        "  for (int i = 0; i < 10; i++) {\n",
        "    printf(\"Blok: %d Suma: %d, Srednia: %d\\n\", i, sum[i], avg[i]);\n",
        "  }\n",
        "  \n",
        "  cudaFree(dev_data);\n",
        "  cudaFree(dev_sum);\n",
        "  cudaFree(dev_avg);\n",
        "  \n",
        "  return 0;\n",
        "}"
      ],
      "metadata": {
        "colab": {
          "base_uri": "https://localhost:8080/"
        },
        "id": "kSabNPWIAFXp",
        "outputId": "52e1b6b8-4cbf-43e2-ab48-ad19e9c0832e"
      },
      "execution_count": 6,
      "outputs": [
        {
          "output_type": "stream",
          "name": "stdout",
          "text": [
            "Blok: 0 Suma: 55, Srednia: 5\n",
            "Blok: 1 Suma: 155, Srednia: 15\n",
            "Blok: 2 Suma: 255, Srednia: 25\n",
            "Blok: 3 Suma: 355, Srednia: 35\n",
            "Blok: 4 Suma: 455, Srednia: 45\n",
            "Blok: 5 Suma: 555, Srednia: 55\n",
            "Blok: 6 Suma: 655, Srednia: 65\n",
            "Blok: 7 Suma: 755, Srednia: 75\n",
            "Blok: 8 Suma: 855, Srednia: 85\n",
            "Blok: 9 Suma: 955, Srednia: 95\n",
            "\n"
          ]
        }
      ]
    }
  ]
}