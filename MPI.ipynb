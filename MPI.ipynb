{
  "nbformat": 4,
  "nbformat_minor": 0,
  "metadata": {
    "colab": {
      "provenance": []
    },
    "kernelspec": {
      "name": "python3",
      "display_name": "Python 3"
    },
    "language_info": {
      "name": "python"
    }
  },
  "cells": [
    {
      "cell_type": "code",
      "execution_count": 2,
      "metadata": {
        "colab": {
          "base_uri": "https://localhost:8080/"
        },
        "id": "0ZV7vpno_W7W",
        "outputId": "a838bdb0-bf68-453c-b082-c225a415feb8"
      },
      "outputs": [
        {
          "output_type": "stream",
          "name": "stdout",
          "text": [
            "Proces 0 wylicza sumę od 1 do 100 = 5050.000000 i średnią = 50.500000 \n",
            "Globalna suma wszystkich liczb: 5050.000000 \n",
            "Globalna średnia wszystkich liczb: 50.500000 \n"
          ]
        }
      ],
      "source": [
        "%%sh\n",
        "cat > lpi-mpi.c << EOF\n",
        "#include <stdio.h>\n",
        "#include <stdlib.h>\n",
        "#include <mpi.h>\n",
        "\n",
        "#define N 100\n",
        "#define ilosc_procesow 1\n",
        "\n",
        "int main(int argc, char *argv[]) {\n",
        "    int rank, size;\n",
        "    MPI_Init(&argc, &argv);\n",
        "    MPI_Comm_size(MPI_COMM_WORLD, &size);\n",
        "    MPI_Comm_rank(MPI_COMM_WORLD, &rank);\n",
        "\n",
        "    int start = rank * (N / ilosc_procesow) + 1;\n",
        "    int end = start + (N / ilosc_procesow) - 1;\n",
        "    int i;\n",
        "    double sum = 0, avg;\n",
        "    for (i = start; i <= end; i++) {\n",
        "        sum += i;\n",
        "    }\n",
        "    avg = sum / (end - start + 1);\n",
        "    printf(\"Proces %d wylicza sumę od %d do %d = %f i średnią = %f \\n\", rank, start, end, sum, avg);\n",
        "\n",
        "    if (rank != ilosc_procesow - 1) {\n",
        "        MPI_Send(&sum, 1, MPI_DOUBLE, rank + 1, 0, MPI_COMM_WORLD);\n",
        "    } else {\n",
        "        double total_sum = sum;\n",
        "        for (i = 0; i < ilosc_procesow - 1; i++) {\n",
        "            MPI_Recv(&sum, 1, MPI_DOUBLE, i, 0, MPI_COMM_WORLD, MPI_STATUS_IGNORE);\n",
        "            total_sum += sum;\n",
        "        }\n",
        "        double total_avg = total_sum / N;\n",
        "        printf(\"Globalna suma wszystkich liczb: %f \\n\", total_sum);\n",
        "        printf(\"Globalna średnia wszystkich liczb: %f \\n\", total_avg);\n",
        "    }\n",
        "\n",
        "    MPI_Finalize();\n",
        "    return 0;\n",
        "}\n",
        "EOF\n",
        "mpicc lpi-mpi.c && mpirun -n 1 --allow-run-as-root a.out"
      ]
    }
  ]
}